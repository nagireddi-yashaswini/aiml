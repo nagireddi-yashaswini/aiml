{
  "nbformat": 4,
  "nbformat_minor": 0,
  "metadata": {
    "colab": {
      "provenance": [],
      "authorship_tag": "ABX9TyMQQvomYVNfFGn2sE4SeAwI",
      "include_colab_link": true
    },
    "kernelspec": {
      "name": "python3",
      "display_name": "Python 3"
    },
    "language_info": {
      "name": "python"
    }
  },
  "cells": [
    {
      "cell_type": "markdown",
      "metadata": {
        "id": "view-in-github",
        "colab_type": "text"
      },
      "source": [
        "<a href=\"https://colab.research.google.com/github/nagireddi-yashaswini/aiml/blob/main/Untitled1.ipynb\" target=\"_parent\"><img src=\"https://colab.research.google.com/assets/colab-badge.svg\" alt=\"Open In Colab\"/></a>"
      ]
    },
    {
      "cell_type": "code",
      "execution_count": 1,
      "metadata": {
        "colab": {
          "base_uri": "https://localhost:8080/"
        },
        "id": "BMN5Pd09_X5I",
        "outputId": "f11d56b9-2af6-4704-f7dc-565da05111e1"
      },
      "outputs": [
        {
          "output_type": "stream",
          "name": "stdout",
          "text": [
            "NumPy Arrays:\n",
            "[1 2 3 4]\n",
            "[[1 2]\n",
            " [3 4]]\n",
            "\n",
            "Pandas Series:\n",
            "a    10\n",
            "b    20\n",
            "c    30\n",
            "d    40\n",
            "dtype: int64\n",
            "\n",
            "Pandas DataFrame:\n",
            "      Name  Age\n",
            "0    Alice   25\n",
            "1      Bob   30\n",
            "2  Charlie   28\n"
          ]
        }
      ],
      "source": [
        "import numpy as np\n",
        "import pandas as pd\n",
        "\n",
        "# NumPy Arrays (for numerical data)\n",
        "arr1 = np.array([1, 2, 3, 4])\n",
        "arr2 = np.array([[1, 2], [3, 4]])\n",
        "\n",
        "print(\"NumPy Arrays:\")\n",
        "print(arr1)\n",
        "print(arr2)\n",
        "\n",
        "# Pandas Series (1D labeled array)\n",
        "series1 = pd.Series([10, 20, 30, 40], index=['a', 'b', 'c', 'd'])\n",
        "print(\"\\nPandas Series:\")\n",
        "print(series1)\n",
        "\n",
        "# Pandas DataFrame (2D labeled table)\n",
        "data = {'Name': ['Alice', 'Bob', 'Charlie'], 'Age': [25, 30, 28]}\n",
        "df = pd.DataFrame(data)\n",
        "print(\"\\nPandas DataFrame:\")\n",
        "print(df)\n"
      ]
    }
  ]
}